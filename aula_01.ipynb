{
  "nbformat": 4,
  "nbformat_minor": 0,
  "metadata": {
    "colab": {
      "name": "aula_01.ipynb",
      "provenance": [],
      "collapsed_sections": [],
      "authorship_tag": "ABX9TyN0CpWNU5nlrQCFVH8QWE8A"
    },
    "kernelspec": {
      "name": "python3",
      "display_name": "Python 3"
    },
    "language_info": {
      "name": "python"
    }
  },
  "cells": [
    {
      "cell_type": "markdown",
      "metadata": {
        "id": "o1lu7xFkLDt5"
      },
      "source": [
        "**Análise dos Dados do Airbnb - Rio de Janeiro**\n"
      ]
    },
    {
      "cell_type": "markdown",
      "metadata": {
        "id": "t5wJCWRMMY-U"
      },
      "source": [
        "**Obtenção dos Dados**\n"
      ]
    },
    {
      "cell_type": "code",
      "metadata": {
        "id": "fcRMuvUpMdUl"
      },
      "source": [
        "# importar os pacotes necessários\n",
        "import pandas as pd\n",
        "import matplotlib.pyplot as plt\n",
        "import seaborn as sns"
      ],
      "execution_count": 2,
      "outputs": []
    },
    {
      "cell_type": "code",
      "metadata": {
        "id": "g_h4tV8dM1aY"
      },
      "source": [
        "# mostrar as 5 primeiras entradas\n",
        "df."
      ],
      "execution_count": null,
      "outputs": []
    }
  ]
}