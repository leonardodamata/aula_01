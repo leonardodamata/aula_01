{
  "nbformat": 4,
  "nbformat_minor": 0,
  "metadata": {
    "colab": {
      "name": "aula_01.ipynb",
      "provenance": [],
      "collapsed_sections": [],
      "authorship_tag": "ABX9TyOMxQ9FTbNhGNXLCFwi3MuC"
    },
    "kernelspec": {
      "name": "python3",
      "display_name": "Python 3"
    },
    "language_info": {
      "name": "python"
    }
  },
  "cells": [
    {
      "cell_type": "markdown",
      "metadata": {
        "id": "o1lu7xFkLDt5"
      },
      "source": [
        "**Análise dos Dados do Airbnb - Rio de Janeiro**\n"
      ]
    }
  ]
}